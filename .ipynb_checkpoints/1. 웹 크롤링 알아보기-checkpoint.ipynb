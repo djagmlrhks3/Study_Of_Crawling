{
 "cells": [
  {
   "cell_type": "markdown",
   "metadata": {},
   "source": [
    "## 웹 크롤링이란\n",
    "\n",
    "웹의 정보를 자동으로 수집하는 것을 의미\n",
    "\n",
    "이런 목적을 위해 만든 프로그램을 **웹 크롤러**라고 한다."
   ]
  },
  {
   "cell_type": "markdown",
   "metadata": {},
   "source": [
    "웹 크롤링이라는 과정을 온전히 이해하기 위해서는 HTML에 대한 지식이 어느 정도 있어야 한다.\n",
    "\n",
    "왜냐하면 웹은 기본적으로 HTML로 만들어져 있기 때문이다."
   ]
  },
  {
   "cell_type": "markdown",
   "metadata": {},
   "source": [
    "## 데이터 수집 시 주의할 점\n",
    "\n",
    "크롤링의 세계는 인터넷의 크기만큼이나 무한하지만, 크롤링은 결국 해킹의 세계와도 연결되기 때문에 주의해야 한다.\n",
    "\n",
    "크롤링의 접근 방식은 법적 문제를 일으킬 수 있다. → '크롤링 남의 자산 훔치는 범죄행위, 인식 변화 갖자' (기사 참고)\n",
    "비록, 크롤링 대부분이 위법은 아니지만 긁어간 데이터를 사용해 부당이득을 얻는다거나 하는 행위를 할 경우엔 저작권법이나 부정경쟁방지법 등의 제재를 받을 수 있다."
   ]
  }
 ],
 "metadata": {
  "kernelspec": {
   "display_name": "Python 3",
   "language": "python",
   "name": "python3"
  },
  "language_info": {
   "codemirror_mode": {
    "name": "ipython",
    "version": 3
   },
   "file_extension": ".py",
   "mimetype": "text/x-python",
   "name": "python",
   "nbconvert_exporter": "python",
   "pygments_lexer": "ipython3",
   "version": "3.7.4"
  }
 },
 "nbformat": 4,
 "nbformat_minor": 4
}
